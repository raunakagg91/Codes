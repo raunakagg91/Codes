{
 "cells": [
  {
   "cell_type": "code",
   "execution_count": 1,
   "metadata": {},
   "outputs": [],
   "source": [
    "import pandas as pd \n",
    "import numpy as np \n",
    "from pulp import *"
   ]
  },
  {
   "cell_type": "code",
   "execution_count": null,
   "metadata": {},
   "outputs": [],
   "source": []
  },
  {
   "cell_type": "code",
   "execution_count": 2,
   "metadata": {},
   "outputs": [],
   "source": [
    "# reading the shifts file \n",
    "df=pd.read_csv(\"Daily_shifts.csv\",index_col=0)"
   ]
  },
  {
   "cell_type": "code",
   "execution_count": 3,
   "metadata": {},
   "outputs": [],
   "source": [
    "df = df.fillna(0).replace(\"Yes\",1)"
   ]
  },
  {
   "cell_type": "code",
   "execution_count": 4,
   "metadata": {},
   "outputs": [
    {
     "data": {
      "text/html": [
       "<div>\n",
       "<style scoped>\n",
       "    .dataframe tbody tr th:only-of-type {\n",
       "        vertical-align: middle;\n",
       "    }\n",
       "\n",
       "    .dataframe tbody tr th {\n",
       "        vertical-align: top;\n",
       "    }\n",
       "\n",
       "    .dataframe thead th {\n",
       "        text-align: right;\n",
       "    }\n",
       "</style>\n",
       "<table border=\"1\" class=\"dataframe\">\n",
       "  <thead>\n",
       "    <tr style=\"text-align: right;\">\n",
       "      <th></th>\n",
       "      <th>Shift 1</th>\n",
       "      <th>Shift 2</th>\n",
       "      <th>Shift 3</th>\n",
       "      <th>Shift 4</th>\n",
       "      <th>Shift 5</th>\n",
       "      <th>Labour required</th>\n",
       "    </tr>\n",
       "    <tr>\n",
       "      <th>shifts/Timeslots</th>\n",
       "      <th></th>\n",
       "      <th></th>\n",
       "      <th></th>\n",
       "      <th></th>\n",
       "      <th></th>\n",
       "      <th></th>\n",
       "    </tr>\n",
       "  </thead>\n",
       "  <tbody>\n",
       "    <tr>\n",
       "      <th>9:00-09:15</th>\n",
       "      <td>1</td>\n",
       "      <td>0</td>\n",
       "      <td>0</td>\n",
       "      <td>0</td>\n",
       "      <td>0</td>\n",
       "      <td>50.0</td>\n",
       "    </tr>\n",
       "    <tr>\n",
       "      <th>9:15-9:30</th>\n",
       "      <td>1</td>\n",
       "      <td>0</td>\n",
       "      <td>1</td>\n",
       "      <td>0</td>\n",
       "      <td>0</td>\n",
       "      <td>48.0</td>\n",
       "    </tr>\n",
       "    <tr>\n",
       "      <th>9:30-9:45</th>\n",
       "      <td>1</td>\n",
       "      <td>0</td>\n",
       "      <td>1</td>\n",
       "      <td>1</td>\n",
       "      <td>0</td>\n",
       "      <td>50.0</td>\n",
       "    </tr>\n",
       "    <tr>\n",
       "      <th>9:45-10:00</th>\n",
       "      <td>1</td>\n",
       "      <td>0</td>\n",
       "      <td>1</td>\n",
       "      <td>1</td>\n",
       "      <td>1</td>\n",
       "      <td>50.0</td>\n",
       "    </tr>\n",
       "    <tr>\n",
       "      <th>10:00-10:15</th>\n",
       "      <td>0</td>\n",
       "      <td>1</td>\n",
       "      <td>1</td>\n",
       "      <td>1</td>\n",
       "      <td>1</td>\n",
       "      <td>55.0</td>\n",
       "    </tr>\n",
       "    <tr>\n",
       "      <th>10:15-10:30</th>\n",
       "      <td>0</td>\n",
       "      <td>1</td>\n",
       "      <td>0</td>\n",
       "      <td>1</td>\n",
       "      <td>1</td>\n",
       "      <td>55.0</td>\n",
       "    </tr>\n",
       "    <tr>\n",
       "      <th>10:30-10:45</th>\n",
       "      <td>0</td>\n",
       "      <td>1</td>\n",
       "      <td>0</td>\n",
       "      <td>0</td>\n",
       "      <td>1</td>\n",
       "      <td>30.0</td>\n",
       "    </tr>\n",
       "    <tr>\n",
       "      <th>10:45-11:00</th>\n",
       "      <td>0</td>\n",
       "      <td>1</td>\n",
       "      <td>0</td>\n",
       "      <td>0</td>\n",
       "      <td>0</td>\n",
       "      <td>30.0</td>\n",
       "    </tr>\n",
       "    <tr>\n",
       "      <th>Shift Cost</th>\n",
       "      <td>20000.00</td>\n",
       "      <td>20000.00</td>\n",
       "      <td>18000.00</td>\n",
       "      <td>18000.00</td>\n",
       "      <td>18000.00</td>\n",
       "      <td>0.0</td>\n",
       "    </tr>\n",
       "  </tbody>\n",
       "</table>\n",
       "</div>"
      ],
      "text/plain": [
       "                   Shift 1   Shift 2   Shift 3   Shift 4   Shift 5  \\\n",
       "shifts/Timeslots                                                     \n",
       "9:00-09:15               1         0         0         0         0   \n",
       "9:15-9:30                1         0         1         0         0   \n",
       "9:30-9:45                1         0         1         1         0   \n",
       "9:45-10:00               1         0         1         1         1   \n",
       "10:00-10:15              0         1         1         1         1   \n",
       "10:15-10:30              0         1         0         1         1   \n",
       "10:30-10:45              0         1         0         0         1   \n",
       "10:45-11:00              0         1         0         0         0   \n",
       "Shift Cost        20000.00  20000.00  18000.00  18000.00  18000.00   \n",
       "\n",
       "                  Labour required  \n",
       "shifts/Timeslots                   \n",
       "9:00-09:15                   50.0  \n",
       "9:15-9:30                    48.0  \n",
       "9:30-9:45                    50.0  \n",
       "9:45-10:00                   50.0  \n",
       "10:00-10:15                  55.0  \n",
       "10:15-10:30                  55.0  \n",
       "10:30-10:45                  30.0  \n",
       "10:45-11:00                  30.0  \n",
       "Shift Cost                    0.0  "
      ]
     },
     "execution_count": 4,
     "metadata": {},
     "output_type": "execute_result"
    }
   ],
   "source": [
    "# It gives the labour reuirement for each time slot and cost of each shift \n",
    "df"
   ]
  },
  {
   "cell_type": "code",
   "execution_count": 5,
   "metadata": {},
   "outputs": [],
   "source": [
    "# Converting Shifts into a matrix\n",
    "Shifts = df.drop(index=['Shift Cost'], columns=[\"Labour required\"]).values\n"
   ]
  },
  {
   "cell_type": "markdown",
   "metadata": {},
   "source": [
    "Defining the variables"
   ]
  },
  {
   "cell_type": "code",
   "execution_count": 6,
   "metadata": {},
   "outputs": [],
   "source": [
    "# Number of Shifts\n",
    "n = Shifts.shape[0]\n",
    "# Numbwe of Slots\n",
    "S = Shifts.shape[0]\n",
    "#labour required per shit\n",
    "l=df.iloc[0:-1,-1].values.astype(float).astype(int)\n",
    "#cost of each shits\n",
    "c=df.iloc[-1,0:-1].values.astype(float).astype(int)\n"
   ]
  },
  {
   "cell_type": "code",
   "execution_count": 50,
   "metadata": {},
   "outputs": [],
   "source": [
    "#setting the decision variables\n",
    "x= LpVariable.dicts(name=\"num_labours\",  indices=list(range(n)),lowBound=0,upBound=None, cat=\"Integer\")"
   ]
  },
  {
   "cell_type": "code",
   "execution_count": 51,
   "metadata": {},
   "outputs": [
    {
     "data": {
      "text/plain": [
       "{0: num_labours_0,\n",
       " 1: num_labours_1,\n",
       " 2: num_labours_2,\n",
       " 3: num_labours_3,\n",
       " 4: num_labours_4}"
      ]
     },
     "execution_count": 51,
     "metadata": {},
     "output_type": "execute_result"
    }
   ],
   "source": [
    "x"
   ]
  },
  {
   "cell_type": "code",
   "execution_count": 59,
   "metadata": {},
   "outputs": [],
   "source": [
    "# Creating a variable for the problem\n",
    "prob = LpProblem(name=\"daily_optimizers\", sense=LpMinimize)"
   ]
  },
  {
   "cell_type": "code",
   "execution_count": 60,
   "metadata": {},
   "outputs": [],
   "source": [
    "#Adding the objective function\n",
    "prob += lpSum([c[i] * x[i] for i in range(n)])"
   ]
  },
  {
   "cell_type": "code",
   "execution_count": 57,
   "metadata": {},
   "outputs": [],
   "source": [
    "# Putting in the constrains\n",
    "for s in range(S):\n",
    "    prob += lpSum([Shifts[s, j] * x[j] for j in range(n)]) >= l[s]\n"
   ]
  },
  {
   "cell_type": "markdown",
   "metadata": {},
   "source": [
    "The problem statement"
   ]
  },
  {
   "cell_type": "code",
   "execution_count": 58,
   "metadata": {},
   "outputs": [
    {
     "data": {
      "text/plain": [
       "daily_optimizers:\n",
       "MINIMIZE\n",
       "20000*num_labours_0 + 20000*num_labours_1 + 18000*num_labours_2 + 18000*num_labours_3 + 18000*num_labours_4 + 0\n",
       "SUBJECT TO\n",
       "_C1: num_labours_0 >= 50\n",
       "\n",
       "_C2: num_labours_0 + num_labours_2 >= 48\n",
       "\n",
       "_C3: num_labours_0 + num_labours_2 + num_labours_3 >= 50\n",
       "\n",
       "_C4: num_labours_0 + num_labours_2 + num_labours_3 + num_labours_4 >= 50\n",
       "\n",
       "_C5: num_labours_1 + num_labours_2 + num_labours_3 + num_labours_4 >= 55\n",
       "\n",
       "_C6: num_labours_1 + num_labours_3 + num_labours_4 >= 55\n",
       "\n",
       "_C7: num_labours_1 + num_labours_4 >= 30\n",
       "\n",
       "_C8: num_labours_1 >= 30\n",
       "\n",
       "VARIABLES\n",
       "0 <= num_labours_0 Integer\n",
       "0 <= num_labours_1 Integer\n",
       "0 <= num_labours_2 Integer\n",
       "0 <= num_labours_3 Integer\n",
       "0 <= num_labours_4 Integer"
      ]
     },
     "execution_count": 58,
     "metadata": {},
     "output_type": "execute_result"
    }
   ],
   "source": [
    "prob"
   ]
  },
  {
   "cell_type": "code",
   "execution_count": 51,
   "metadata": {},
   "outputs": [
    {
     "name": "stdout",
     "output_type": "stream",
     "text": [
      "Status: Optimal\n"
     ]
    }
   ],
   "source": [
    "prob.solve()\n",
    "print(\"Status:\", LpStatus[prob.status])"
   ]
  },
  {
   "cell_type": "code",
   "execution_count": 61,
   "metadata": {},
   "outputs": [
    {
     "name": "stdout",
     "output_type": "stream",
     "text": [
      "Shifts Labour Required\n",
      "Shift 1 50.0\n",
      "Shift 2 30.0\n",
      "Shift 3 0.0\n",
      "Shift 4 25.0\n",
      "Shift 5 0.0\n"
     ]
    }
   ],
   "source": [
    "print(\"Shifts\",\"Labour Required\")\n",
    "for shift in range(n):\n",
    "    print(df.columns[shift],end=\" \"),print(x[shift].value())\n",
    "   "
   ]
  },
  {
   "cell_type": "code",
   "execution_count": null,
   "metadata": {},
   "outputs": [],
   "source": []
  }
 ],
 "metadata": {
  "kernelspec": {
   "display_name": "Python 3",
   "language": "python",
   "name": "python3"
  },
  "language_info": {
   "codemirror_mode": {
    "name": "ipython",
    "version": 3
   },
   "file_extension": ".py",
   "mimetype": "text/x-python",
   "name": "python",
   "nbconvert_exporter": "python",
   "pygments_lexer": "ipython3",
   "version": "3.8.3"
  }
 },
 "nbformat": 4,
 "nbformat_minor": 4
}
