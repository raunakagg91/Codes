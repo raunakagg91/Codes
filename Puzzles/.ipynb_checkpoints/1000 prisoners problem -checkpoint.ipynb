{
 "cells": [
  {
   "cell_type": "code",
   "execution_count": 2,
   "metadata": {},
   "outputs": [],
   "source": [
    "import pandas as pd \n",
    "import numpy as np \n",
    "from random import choice\n",
    "import matplotlib.pyplot as plt\n",
    "import networkx as nx\n",
    "from IPython.display import HTML\n",
    "\n"
   ]
  },
  {
   "cell_type": "markdown",
   "metadata": {},
   "source": [
    "# Problem Statement "
   ]
  },
  {
   "cell_type": "markdown",
   "metadata": {},
   "source": [
    "I believe this minute and a half video from minute physics will do a far better \n",
    "job at explaining the problem that I will be able to. Please watch this video to \n",
    "understand the problem"
   ]
  },
  {
   "cell_type": "code",
   "execution_count": 3,
   "metadata": {},
   "outputs": [
    {
     "name": "stderr",
     "output_type": "stream",
     "text": [
      "/Users/raunakaggarwal/opt/anaconda3/lib/python3.8/site-packages/IPython/core/display.py:717: UserWarning: Consider using IPython.display.IFrame instead\n",
      "  warnings.warn(\"Consider using IPython.display.IFrame instead\")\n"
     ]
    },
    {
     "data": {
      "text/html": [
       "<iframe width=\"560\" height=\"315\" src=\"https://www.youtube.com/embed/eivGlBKlK6M?rel=0&amp;controls=0&amp;showinfo=0\" frameborder=\"0\" allowfullscreen></iframe>"
      ],
      "text/plain": [
       "<IPython.core.display.HTML object>"
      ]
     },
     "execution_count": 3,
     "metadata": {},
     "output_type": "execute_result"
    }
   ],
   "source": [
    "\n",
    "# Youtube\n",
    "HTML('<iframe width=\"560\" height=\"315\" src=\"https://www.youtube.com/embed/eivGlBKlK6M?rel=0&amp;controls=0&amp;showinfo=0\" frameborder=\"0\" allowfullscreen></iframe>')\n"
   ]
  },
  {
   "cell_type": "raw",
   "metadata": {},
   "source": [
    "We will now try to codify and visualize this problem thorugh python. For ease of visualization we will use 20 prisoners for now "
   ]
  },
  {
   "cell_type": "code",
   "execution_count": 23,
   "metadata": {},
   "outputs": [],
   "source": [
    "# Creating a list of 20 boxes\n",
    "obj = {}\n",
    "for i in range(1, 21):\n",
    "    obj[i] = []\n"
   ]
  },
  {
   "cell_type": "code",
   "execution_count": 24,
   "metadata": {},
   "outputs": [
    {
     "data": {
      "text/plain": [
       "{1: [],\n",
       " 2: [],\n",
       " 3: [],\n",
       " 4: [],\n",
       " 5: [],\n",
       " 6: [],\n",
       " 7: [],\n",
       " 8: [],\n",
       " 9: [],\n",
       " 10: [],\n",
       " 11: [],\n",
       " 12: [],\n",
       " 13: [],\n",
       " 14: [],\n",
       " 15: [],\n",
       " 16: [],\n",
       " 17: [],\n",
       " 18: [],\n",
       " 19: [],\n",
       " 20: []}"
      ]
     },
     "execution_count": 24,
     "metadata": {},
     "output_type": "execute_result"
    }
   ],
   "source": [
    "obj"
   ]
  },
  {
   "cell_type": "code",
   "execution_count": 25,
   "metadata": {},
   "outputs": [],
   "source": [
    "#Filling the boxes with prisoner numbers randomly \n",
    "n=[]\n",
    "for i in range(1,21):\n",
    "    m=choice([i for i in range(1,21) if i not in n])\n",
    "    obj[i]=[m]\n",
    "    n.append(m)"
   ]
  },
  {
   "cell_type": "code",
   "execution_count": 31,
   "metadata": {},
   "outputs": [
    {
     "data": {
      "text/plain": [
       "{1: [12],\n",
       " 2: [17],\n",
       " 3: [11],\n",
       " 4: [1],\n",
       " 5: [10],\n",
       " 6: [6],\n",
       " 7: [9],\n",
       " 8: [16],\n",
       " 9: [18],\n",
       " 10: [4],\n",
       " 11: [14],\n",
       " 12: [3],\n",
       " 13: [2],\n",
       " 14: [7],\n",
       " 15: [20],\n",
       " 16: [5],\n",
       " 17: [15],\n",
       " 18: [19],\n",
       " 19: [13],\n",
       " 20: [8]}"
      ]
     },
     "execution_count": 31,
     "metadata": {},
     "output_type": "execute_result"
    }
   ],
   "source": [
    "obj"
   ]
  },
  {
   "cell_type": "raw",
   "metadata": {},
   "source": [
    "Running 100 simulations with 20 prisoners"
   ]
  },
  {
   "cell_type": "code",
   "execution_count": 32,
   "metadata": {},
   "outputs": [],
   "source": [
    "prisoners=20\n",
    "simulations=100\n",
    "success=0\n",
    "failure=0\n",
    "obj_all=[]\n",
    "sol_all=[]\n",
    "\n",
    "for k in range(simulations):  \n",
    "    obj = {}\n",
    "    for i in range(1, prisoners+1):\n",
    "        obj[i] = []\n",
    "    n=[]\n",
    "    for i in range(1,prisoners+1):\n",
    "        m=choice([i for i in range(1,prisoners+1) if i not in n])\n",
    "        obj[i]=[m]\n",
    "        n.append(m)\n",
    "#Creting a dictionary having the ticket number of the last box picked by the prisoner\n",
    "    sol = {}\n",
    "    for i in range(1, prisoners+1):\n",
    "        sol[i] = []\n",
    "\n",
    "    for i in range(1,prisoners+1):\n",
    "        a=i\n",
    "\n",
    "        for j in range(0,int(prisoners/2),1):\n",
    "            # Prisoner first picking box nubmer same as his number \n",
    "            sol[i]=obj[a][0]\n",
    "            #breaking the loop if he finds the box having the ticket of his number\n",
    "            if i==obj[a][0]:\n",
    "                break \n",
    "            #Prisoner picking the box number correspoding to the ticket number in the earlier box   \n",
    "            a=obj[a][0]\n",
    "     # if all prisoner find the correct ticket                \n",
    "    if all(k == v for k,v in sol.items())==True:\n",
    "        success=success+1\n",
    "    # if any one of the prisoner doesnt find the ticket                 \n",
    "    if all(k == v for k,v in sol.items())==False:\n",
    "        failure=failure+1\n",
    "    obj_all.append(obj)\n",
    "    sol_all.append(sol)\n",
    "       \n",
    "        \n",
    "        "
   ]
  },
  {
   "cell_type": "code",
   "execution_count": 33,
   "metadata": {},
   "outputs": [
    {
     "data": {
      "text/plain": [
       "0.37"
      ]
     },
     "execution_count": 33,
     "metadata": {},
     "output_type": "execute_result"
    }
   ],
   "source": [
    "# Success Rate\n",
    "success/(failure+success)"
   ]
  },
  {
   "cell_type": "code",
   "execution_count": 39,
   "metadata": {},
   "outputs": [],
   "source": [
    "list_suc=[]\n",
    "list_fail=[]\n",
    "for i in range(simulations):\n",
    "    if all(k == v for k,v in sol_all[i].items()):\n",
    "        list_suc.append(i)\n",
    "    else:\n",
    "        list_fail.append(i)\n",
    "        \n",
    "     "
   ]
  },
  {
   "cell_type": "raw",
   "metadata": {},
   "source": [
    "Printing network graphs of successfull cases"
   ]
  },
  {
   "cell_type": "code",
   "execution_count": 82,
   "metadata": {},
   "outputs": [
    {
     "data": {
      "image/png": "[encoded data removed]",
      "text/plain": [
       "<Figure size 432x288 with 1 Axes>"
      ]
     },
     "metadata": {},
     "output_type": "display_data"
    }
   ],
   "source": [
    "G = nx.Graph()\n",
    "# Picking the case where all prisoners were able to find the right ticket(Success)\n",
    "a=list(obj_all[list_suc[0]].keys())\n",
    "b=list(obj_all[list_suc[0]].values())\n",
    "for i in range(0,len(a)):\n",
    "    G.add_edge(a[i],b[i][0])\n",
    "nx.draw(G, with_labels = True)\n"
   ]
  },
  {
   "cell_type": "code",
   "execution_count": 87,
   "metadata": {},
   "outputs": [
    {
     "data": {
      "image/png": "[encoded data removed]",
      "text/plain": [
       "<Figure size 432x288 with 1 Axes>"
      ]
     },
     "metadata": {},
     "output_type": "display_data"
    }
   ],
   "source": [
    "G = nx.Graph()\n",
    "# Picking the case where all prisoners were able to find the right ticket(Success)\n",
    "a=list(obj_all[list_suc[1]].keys())\n",
    "b=list(obj_all[list_suc[1]].values())\n",
    "for i in range(0,len(a)):\n",
    "    G.add_edge(a[i],b[i][0])\n",
    "nx.draw(G, with_labels = True)"
   ]
  },
  {
   "cell_type": "raw",
   "metadata": {},
   "source": [
    "Printing network graphs of failed cases"
   ]
  },
  {
   "cell_type": "code",
   "execution_count": 84,
   "metadata": {},
   "outputs": [
    {
     "data": {
      "image/png": "[encoded data removed]",
      "text/plain": [
       "<Figure size 432x288 with 1 Axes>"
      ]
     },
     "metadata": {},
     "output_type": "display_data"
    }
   ],
   "source": [
    "G = nx.Graph()\n",
    "# Picking the case where all prisoners were able to find the right ticket(Success)\n",
    "a=list(obj_all[list_fail[0]].keys())\n",
    "b=list(obj_all[list_fail[0]].values())\n",
    "for i in range(0,len(a)):\n",
    "    G.add_edge(a[i],b[i][0])\n",
    "nx.draw(G, with_labels = True)"
   ]
  },
  {
   "cell_type": "code",
   "execution_count": 86,
   "metadata": {},
   "outputs": [
    {
     "data": {
      "image/png": "[encoded data removed]",
      "text/plain": [
       "<Figure size 432x288 with 1 Axes>"
      ]
     },
     "metadata": {},
     "output_type": "display_data"
    }
   ],
   "source": [
    "G = nx.Graph()\n",
    "# Picking the case where all prisoners were able to find the right ticket(Success)\n",
    "a=list(obj_all[list_fail[1]].keys())\n",
    "b=list(obj_all[list_fail[1]].values())\n",
    "for i in range(0,len(a)):\n",
    "    G.add_edge(a[i],b[i][0])\n",
    "nx.draw(G, with_labels = True)"
   ]
  },
  {
   "cell_type": "raw",
   "metadata": {},
   "source": [
    "One thing you can observe from the above graphs is that when the biggest chain in \n",
    "the network is less than half of the total number of prisoners, it is a successfull case,\n",
    "otherwise its a failure. \n",
    "\n",
    "All the people who are stuck in the loop greater than 10 will not be able to\n",
    "find the correct tickets. Lets Verify this "
   ]
  },
  {
   "cell_type": "code",
   "execution_count": 89,
   "metadata": {},
   "outputs": [
    {
     "data": {
      "text/plain": [
       "{1: 19,\n",
       " 2: 9,\n",
       " 3: 3,\n",
       " 4: 4,\n",
       " 5: 16,\n",
       " 6: 11,\n",
       " 7: 7,\n",
       " 8: 17,\n",
       " 9: 8,\n",
       " 10: 18,\n",
       " 11: 12,\n",
       " 12: 1,\n",
       " 13: 2,\n",
       " 14: 14,\n",
       " 15: 15,\n",
       " 16: 13,\n",
       " 17: 5,\n",
       " 18: 6,\n",
       " 19: 10,\n",
       " 20: 20}"
      ]
     },
     "execution_count": 89,
     "metadata": {},
     "output_type": "execute_result"
    }
   ],
   "source": [
    "sol_all[list_fail[1]]"
   ]
  },
  {
   "cell_type": "raw",
   "metadata": {},
   "source": [
    "Only Prisoners who are in a loop shorter than 10, ie 15,3,4,7,20,14\n",
    "are able to find the correct ticket."
   ]
  },
  {
   "cell_type": "markdown",
   "metadata": {},
   "source": [
    "Running 100,000 simulations with different number of prisoners"
   ]
  },
  {
   "cell_type": "code",
   "execution_count": 299,
   "metadata": {},
   "outputs": [],
   "source": [
    "Simulations=100000\n",
    "success_all=[]\n",
    "number=[]\n",
    "obj_all=[]\n",
    "sol_all=[]\n",
    "for z in range (10,110,10):\n",
    "    prisoners=z\n",
    "    number.append(z)\n",
    "    success=0\n",
    "    failure=0\n",
    "    for k in range(1,Simulations):  \n",
    "        obj = {}\n",
    "        for i in range(1, prisoners+1):\n",
    "            obj[i] = []\n",
    "        n=[]\n",
    "        for i in range(1,prisoners+1):\n",
    "            m=choice([i for i in range(1,prisoners+1) if i not in n])\n",
    "            obj[i]=[m]\n",
    "            n.append(m)\n",
    "\n",
    "        sol = {}\n",
    "        for i in range(1, prisoners+1):\n",
    "            sol[i] = []\n",
    "\n",
    "        for i in range(1,prisoners+1):\n",
    "            a=i\n",
    "\n",
    "            for j in range(0,int(prisoners/2),1):\n",
    "        #         rnd=choice([i for i in range(0,11) if i not in [n]])\n",
    "                sol[i]=obj[a][0]\n",
    "        #         print(i,j,sol[i],obj[a][0])\n",
    "                if i==obj[a][0]:\n",
    "                    break \n",
    "                a=obj[a][0]\n",
    "        if all(k == v for k,v in sol.items())==True:\n",
    "            success=success+1\n",
    "        if all(k == v for k,v in sol.items())==False:\n",
    "            failure=failure+1\n",
    "#         obj_all.append(obj)\n",
    "#         sol_all.append(sol)\n",
    "    success_all.append(success)\n",
    "\n",
    "\n"
   ]
  },
  {
   "cell_type": "code",
   "execution_count": 308,
   "metadata": {},
   "outputs": [
    {
     "data": {
      "text/plain": [
       "[<matplotlib.lines.Line2D at 0x7fa3d7576490>]"
      ]
     },
     "execution_count": 308,
     "metadata": {},
     "output_type": "execute_result"
    },
    {
     "data": {
      "image/png": "[encoded data removed]",
      "text/plain": [
       "<Figure size 432x288 with 1 Axes>"
      ]
     },
     "metadata": {
      "needs_background": "light"
     },
     "output_type": "display_data"
    }
   ],
   "source": [
    "plt.plot(number,success_all)"
   ]
  },
  {
   "cell_type": "raw",
   "metadata": {},
   "source": [
    "As the number of prisoners increase the possibilty of success keeps going down"
   ]
  },
  {
   "cell_type": "markdown",
   "metadata": {},
   "source": [
    "For a more detailed understanding of the problem, Please watch this video "
   ]
  },
  {
   "cell_type": "code",
   "execution_count": 91,
   "metadata": {},
   "outputs": [
    {
     "data": {
      "text/html": [
       "<iframe width=\"560\" height=\"315\" src=\"https://www.youtube.com/embed/iSNsgj1OCLA?rel=0&amp;controls=0&amp;showinfo=0\" frameborder=\"0\" allowfullscreen></iframe>"
      ],
      "text/plain": [
       "<IPython.core.display.HTML object>"
      ]
     },
     "execution_count": 91,
     "metadata": {},
     "output_type": "execute_result"
    }
   ],
   "source": [
    "HTML('<iframe width=\"560\" height=\"315\" src=\"https://www.youtube.com/embed/iSNsgj1OCLA?rel=0&amp;controls=0&amp;showinfo=0\" frameborder=\"0\" allowfullscreen></iframe>')\n"
   ]
  }
 ],
 "metadata": {
  "kernelspec": {
   "display_name": "Python 3",
   "language": "python",
   "name": "python3"
  },
  "language_info": {
   "codemirror_mode": {
    "name": "ipython",
    "version": 3
   },
   "file_extension": ".py",
   "mimetype": "text/x-python",
   "name": "python",
   "nbconvert_exporter": "python",
   "pygments_lexer": "ipython3",
   "version": "3.8.3"
  }
 },
 "nbformat": 4,
 "nbformat_minor": 4
}
